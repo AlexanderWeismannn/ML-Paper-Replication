{
 "cells": [
  {
   "cell_type": "code",
   "execution_count": 19,
   "metadata": {},
   "outputs": [
    {
     "name": "stdout",
     "output_type": "stream",
     "text": [
      "Found x: 4850\n",
      "Hash Value: 549406198764950208345d143aa67c7d\n"
     ]
    }
   ],
   "source": [
    "import hashlib\n",
    "\n",
    "target_prefix = set(\"0123456789\")  \n",
    "x = 0\n",
    "\n",
    "while True:\n",
    "    x_str = str(x)\n",
    "    hash_value = hashlib.md5(x_str.encode()).hexdigest()\n",
    "\n",
    "    # Check if the hash value starts with at least 20 characters from the set of valid characters\n",
    "    if all(char in target_prefix for char in hash_value[0:19]):\n",
    "        break\n",
    "\n",
    "    x += 1\n",
    "\n",
    "print(f\"Found x: {x}\")\n",
    "print(f\"Hash Value: {hash_value}\")"
   ]
  }
 ],
 "metadata": {
  "kernelspec": {
   "display_name": "Python 3",
   "language": "python",
   "name": "python3"
  },
  "language_info": {
   "codemirror_mode": {
    "name": "ipython",
    "version": 3
   },
   "file_extension": ".py",
   "mimetype": "text/x-python",
   "name": "python",
   "nbconvert_exporter": "python",
   "pygments_lexer": "ipython3",
   "version": "3.11.5"
  }
 },
 "nbformat": 4,
 "nbformat_minor": 2
}
